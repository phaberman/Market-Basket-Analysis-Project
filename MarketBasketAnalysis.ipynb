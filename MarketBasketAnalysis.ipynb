{
 "cells": [
  {
   "cell_type": "markdown",
   "metadata": {},
   "source": [
    "# **Market Basket Analysis Project**"
   ]
  },
  {
   "cell_type": "markdown",
   "metadata": {},
   "source": [
    "# **What is Market Basket Analysis?**\n",
    "\n",
    "Market Basket Analysis (MBA) is a data analysis tool used to discover items that are frequently purchased together. You encounter this on websites like Amazon when you see a list of 'Frequently Bought Together' items on the page of the item you are considering to buy. In a restaurant this may be manifested through item pairings on a menu.\n",
    "\n",
    "Since the data used in this project is from a restaurant, we will talk about MBA's application in the restaurant business. Thomas Joseph has a very thorough article which can be found [here](https://blog.aspiresys.com/digital/big-data-analytics/menu-engineering-market-basket-analysis/), which I will summarize parts of. Among other things, MBA can help a restaurant determine 1) which items are most likely to be ordered on certain days/times/seasons, 2) which items are most likely to be bought together, and 3) relationships between item sales and special promotions.\n",
    "\n",
    "MBA is based on association rules, of which there are three main types: support, confidence, and lift. We can think of an association rule, typically written as {Item A} -> {Item B}, or simply, If Item A is bought, then so is B.\n",
    "\n",
    "So, for the association rule A -> B, the three rules can be generated as:\n",
    "\n",
    "*Support = P(A & B)*\n",
    "\n",
    "*Confidence = Support / P(B)*\n",
    "\n",
    "*Lift = Confidence/ P(A)*\n",
    "\n",
    "\n",
    "As an example, we will pretend that our food enterprise, 'Phil's Taco Stand'. In reality, we would like hundreds of thousands of transaction records to produce a more reliable result, but we will stick with a small dataset of 100 transactions for ease of explanation.\n",
    "\n",
    "**Phil's Taco Stand**\n",
    "- 100 customers transactions\n",
    "- 20 purchased pork tacos, 15 bought lime margaritas, 10 bought both. \n",
    "- Support(pork taco and lime margarita) = 10/100 = 0.1\n",
    "- Confidence = support / P(lime margarita) = 0.1 / 0.15 = 0.66\n",
    "- Lift = confidence / P(pork taco) = 0.66 / 0.2 = 3.3\n",
    "\n",
    "So, our lift for the rule {pork tacos} -> {lime margaritas} is 3.3\n",
    "\n",
    "How do we interpret this number though?\n",
    "\n",
    "Essentially, a lift value of 1 indicates that the rules are totally independent. On the other hand, a lift value greater than 1 is indicative of a meaningful pattern. Therefore, we could say that our rule of *customers who buy pork tacos, are likely to buy lime margaritas* will be useful to our taco stand business.\n"
   ]
  },
  {
   "cell_type": "markdown",
   "metadata": {},
   "source": [
    "# **What Value Can it Bring to a Restaurant Business?**\n",
    "\n",
    "\n",
    "One thing I am trying to emphasize in each project is that analyses like this (or customer segmentation with kmeans clustering in my last project) are not an end product, but rather they are a step in a process, a single stroke in an entire painting, or a piece to a puzzle. It is the same with association rules and MBA. They should be a part of a larger strategy by a business to harness the power of the data to make decisions that make a positive impact.\n",
    "\n",
    "So, now that we know (and have the data to back it up) that pork tacos and lime margaritas are commonly bought together, what do we do next? How can we use this information to alter or improve some aspect of the business that will produce a positive outcome? \n",
    "\n",
    "Here are a few practical things we can do with this information:\n",
    "\n",
    "1. Use this rule (and others we could extract from MBA) to adjust our menu to include item pairing recommendations. Nudge customers not sure if they want to drink or not by letting them know that 'lime margaritas go well with pork tacos'.\n",
    "\n",
    "2. Use it for upselling, having servers recommend a lime margarita to customers who want pork tacos\n",
    "\n",
    "3. Begin offering a taco / margarita combo (perhaps with another item by another association rule generated from the analysis)\n",
    "\n",
    "These are just a few examples. Now, lets get to coding. Unfortunately, no dataset on 'Phil's Taco Stand' exist (some say the restuarant itself is just a mythical legend), so we will be using an open source dataset from a bakery / cafe available on [kaggle.com](https://www.kaggle.com/mittalvasu95/the-bread-basket).\n",
    "\n",
    "Now, let's proceed to the data and coding portion."
   ]
  },
  {
   "cell_type": "markdown",
   "metadata": {},
   "source": [
    "# **Load Libraries and Dataset** "
   ]
  },
  {
   "cell_type": "code",
   "execution_count": 2,
   "metadata": {},
   "outputs": [],
   "source": [
    "# import libraries\n",
    "import pandas as pd\n",
    "import numpy as np\n",
    "import seaborn as sns\n",
    "import matplotlib.pyplot as plt\n",
    "%matplotlib inline\n",
    "from mlxtend.frequent_patterns import apriori\n",
    "from mlxtend.frequent_patterns import association_rules\n",
    "import mlxtend as ml"
   ]
  },
  {
   "cell_type": "code",
   "execution_count": 4,
   "metadata": {},
   "outputs": [
    {
     "data": {
      "text/html": [
       "<div>\n",
       "<style scoped>\n",
       "    .dataframe tbody tr th:only-of-type {\n",
       "        vertical-align: middle;\n",
       "    }\n",
       "\n",
       "    .dataframe tbody tr th {\n",
       "        vertical-align: top;\n",
       "    }\n",
       "\n",
       "    .dataframe thead th {\n",
       "        text-align: right;\n",
       "    }\n",
       "</style>\n",
       "<table border=\"1\" class=\"dataframe\">\n",
       "  <thead>\n",
       "    <tr style=\"text-align: right;\">\n",
       "      <th></th>\n",
       "      <th>Transaction</th>\n",
       "      <th>Item</th>\n",
       "      <th>date_time</th>\n",
       "      <th>period_day</th>\n",
       "      <th>weekday_weekend</th>\n",
       "    </tr>\n",
       "  </thead>\n",
       "  <tbody>\n",
       "    <tr>\n",
       "      <th>0</th>\n",
       "      <td>1</td>\n",
       "      <td>Bread</td>\n",
       "      <td>30-10-2016 09:58</td>\n",
       "      <td>morning</td>\n",
       "      <td>weekend</td>\n",
       "    </tr>\n",
       "    <tr>\n",
       "      <th>1</th>\n",
       "      <td>2</td>\n",
       "      <td>Scandinavian</td>\n",
       "      <td>30-10-2016 10:05</td>\n",
       "      <td>morning</td>\n",
       "      <td>weekend</td>\n",
       "    </tr>\n",
       "    <tr>\n",
       "      <th>2</th>\n",
       "      <td>2</td>\n",
       "      <td>Scandinavian</td>\n",
       "      <td>30-10-2016 10:05</td>\n",
       "      <td>morning</td>\n",
       "      <td>weekend</td>\n",
       "    </tr>\n",
       "    <tr>\n",
       "      <th>3</th>\n",
       "      <td>3</td>\n",
       "      <td>Hot chocolate</td>\n",
       "      <td>30-10-2016 10:07</td>\n",
       "      <td>morning</td>\n",
       "      <td>weekend</td>\n",
       "    </tr>\n",
       "    <tr>\n",
       "      <th>4</th>\n",
       "      <td>3</td>\n",
       "      <td>Jam</td>\n",
       "      <td>30-10-2016 10:07</td>\n",
       "      <td>morning</td>\n",
       "      <td>weekend</td>\n",
       "    </tr>\n",
       "    <tr>\n",
       "      <th>5</th>\n",
       "      <td>3</td>\n",
       "      <td>Cookies</td>\n",
       "      <td>30-10-2016 10:07</td>\n",
       "      <td>morning</td>\n",
       "      <td>weekend</td>\n",
       "    </tr>\n",
       "    <tr>\n",
       "      <th>6</th>\n",
       "      <td>4</td>\n",
       "      <td>Muffin</td>\n",
       "      <td>30-10-2016 10:08</td>\n",
       "      <td>morning</td>\n",
       "      <td>weekend</td>\n",
       "    </tr>\n",
       "    <tr>\n",
       "      <th>7</th>\n",
       "      <td>5</td>\n",
       "      <td>Coffee</td>\n",
       "      <td>30-10-2016 10:13</td>\n",
       "      <td>morning</td>\n",
       "      <td>weekend</td>\n",
       "    </tr>\n",
       "    <tr>\n",
       "      <th>8</th>\n",
       "      <td>5</td>\n",
       "      <td>Pastry</td>\n",
       "      <td>30-10-2016 10:13</td>\n",
       "      <td>morning</td>\n",
       "      <td>weekend</td>\n",
       "    </tr>\n",
       "    <tr>\n",
       "      <th>9</th>\n",
       "      <td>5</td>\n",
       "      <td>Bread</td>\n",
       "      <td>30-10-2016 10:13</td>\n",
       "      <td>morning</td>\n",
       "      <td>weekend</td>\n",
       "    </tr>\n",
       "  </tbody>\n",
       "</table>\n",
       "</div>"
      ],
      "text/plain": [
       "   Transaction           Item         date_time period_day weekday_weekend\n",
       "0            1          Bread  30-10-2016 09:58    morning         weekend\n",
       "1            2   Scandinavian  30-10-2016 10:05    morning         weekend\n",
       "2            2   Scandinavian  30-10-2016 10:05    morning         weekend\n",
       "3            3  Hot chocolate  30-10-2016 10:07    morning         weekend\n",
       "4            3            Jam  30-10-2016 10:07    morning         weekend\n",
       "5            3        Cookies  30-10-2016 10:07    morning         weekend\n",
       "6            4         Muffin  30-10-2016 10:08    morning         weekend\n",
       "7            5         Coffee  30-10-2016 10:13    morning         weekend\n",
       "8            5         Pastry  30-10-2016 10:13    morning         weekend\n",
       "9            5          Bread  30-10-2016 10:13    morning         weekend"
      ]
     },
     "execution_count": 4,
     "metadata": {},
     "output_type": "execute_result"
    }
   ],
   "source": [
    "file = \"C:\\\\Users\\\\Phillip's PC\\\\Desktop\\\\MBA Project\\\\bread basket.csv\"\n",
    "\n",
    "breadbasket = pd.read_csv(file)\n",
    "\n",
    "breadbasket.head(10)"
   ]
  },
  {
   "cell_type": "markdown",
   "metadata": {},
   "source": [
    "# **Data Exploration and Visualization**\n",
    "\n",
    "We will do only a little data exploration and visualization since most of our data is categorical. Three questions we will try to answer are:\n",
    "\n",
    "1. What are the 'top 10' best selling items?\n",
    "\n",
    "2. What are the best selling items in the morning? afternoon? evening? night?\n",
    "\n",
    "3. What are the best selling items during weekdays? weekends?"
   ]
  },
  {
   "cell_type": "code",
   "execution_count": 5,
   "metadata": {},
   "outputs": [
    {
     "data": {
      "image/png": "[encoded data removed]",
      "text/plain": [
       "<Figure size 576x432 with 1 Axes>"
      ]
     },
     "metadata": {
      "needs_background": "light"
     },
     "output_type": "display_data"
    }
   ],
   "source": [
    "plt.figure(figsize = (8, 6))\n",
    "sns.countplot(data = breadbasket, x = 'Item', order = breadbasket['Item'].value_counts().iloc[:10].index)\n",
    "plt.xticks(rotation = 45)\n",
    "plt.show()"
   ]
  },
  {
   "cell_type": "markdown",
   "metadata": {},
   "source": [
    "Coffee is the best selling item by far. Which is not surprising since this is a bakery. It may be more informative to see which items sell best during different parts of the day and on weekdays vs. weekends. We will see that below."
   ]
  },
  {
   "cell_type": "code",
   "execution_count": 6,
   "metadata": {},
   "outputs": [
    {
     "data": {
      "image/png": "[encoded data removed]",
      "text/plain": [
       "<Figure size 576x432 with 1 Axes>"
      ]
     },
     "metadata": {
      "needs_background": "light"
     },
     "output_type": "display_data"
    }
   ],
   "source": [
    "plt.figure(figsize = (8, 6))\n",
    "sns.countplot(data = breadbasket, x = 'Item', hue = 'period_day', order = breadbasket['Item'].value_counts().iloc[:10].index)\n",
    "plt.xticks(rotation = 45)\n",
    "plt.show()"
   ]
  },
  {
   "cell_type": "markdown",
   "metadata": {},
   "source": [
    "The trends for mornings and evening are pretty similar. Confirming what we probably knew from intuition, pastries are more popular in the morning, and sandwiches are more popular in the afternoon. Evenings are relatively dead (maybe because our shop closes early, or people are not typically drinking coffee later in the day). Nights are non-existent, likely because the shop is closed."
   ]
  },
  {
   "cell_type": "code",
   "execution_count": 7,
   "metadata": {},
   "outputs": [
    {
     "data": {
      "image/png": "[encoded data removed]",
      "text/plain": [
       "<Figure size 576x432 with 1 Axes>"
      ]
     },
     "metadata": {
      "needs_background": "light"
     },
     "output_type": "display_data"
    }
   ],
   "source": [
    "plt.figure(figsize = (8, 6))\n",
    "sns.countplot(data = breadbasket, x = 'Item', hue = 'weekday_weekend', order = breadbasket['Item'].value_counts().iloc[:10].index)\n",
    "plt.xticks(rotation = 45)\n",
    "plt.show()"
   ]
  },
  {
   "cell_type": "markdown",
   "metadata": {},
   "source": [
    "A weekday vs. weekend comparison shows that item trends remain similar during both parts of the week. Obviously, sales on the weekend are less than the weekdays because it only lasts two days compared to five.\n",
    "\n",
    "Next, we will move onto the MBA portion of the project.\n",
    "\n",
    "In summary, MBA consists of two steps.\n",
    "\n",
    "1. create frequent item sets\n",
    "\n",
    "2. generate association rules based on those sets"
   ]
  },
  {
   "cell_type": "markdown",
   "metadata": {},
   "source": [
    "# **MBA**"
   ]
  },
  {
   "cell_type": "markdown",
   "metadata": {},
   "source": [
    "First, we will group the items by transaction and item, so that we can get a count of how frequently they are purchased. \n",
    "\n",
    "In order to do our analysis, we need our data to be in a one-hot encoded dataframe. We write a function for this in which 1 means the item occured in the transaction, or 0 which means it didn't. "
   ]
  },
  {
   "cell_type": "code",
   "execution_count": 8,
   "metadata": {},
   "outputs": [],
   "source": [
    "# group df by transaction and item, add a count column\n",
    "grouped_df = breadbasket.groupby(['Transaction','Item']).size().reset_index(name = 'count')\n",
    "\n",
    "counts_df = (grouped_df.groupby(['Transaction', 'Item'])['count']\n",
    "          .sum().unstack().reset_index().fillna(0)\n",
    "          .set_index('Transaction'))\n",
    "\n",
    "# one-hot encoding function\n",
    "def encode_units(x):\n",
    "    if x <= 0:\n",
    "        return 0\n",
    "    if x >= 1:\n",
    "        return 1\n",
    "    \n",
    "sets = counts_df.applymap(encode_units)"
   ]
  },
  {
   "cell_type": "code",
   "execution_count": 9,
   "metadata": {},
   "outputs": [],
   "source": [
    "# generate frequent item sets\n",
    "freq_sets = apriori(sets, min_support = 0.01, use_colnames = True)"
   ]
  },
  {
   "cell_type": "code",
   "execution_count": 10,
   "metadata": {},
   "outputs": [],
   "source": [
    "# generate rules with corresponding item sets\n",
    "assc_rules = association_rules(freq_sets, metric = \"lift\", min_threshold = 1)"
   ]
  },
  {
   "cell_type": "code",
   "execution_count": 11,
   "metadata": {},
   "outputs": [
    {
     "data": {
      "text/html": [
       "<div>\n",
       "<style scoped>\n",
       "    .dataframe tbody tr th:only-of-type {\n",
       "        vertical-align: middle;\n",
       "    }\n",
       "\n",
       "    .dataframe tbody tr th {\n",
       "        vertical-align: top;\n",
       "    }\n",
       "\n",
       "    .dataframe thead th {\n",
       "        text-align: right;\n",
       "    }\n",
       "</style>\n",
       "<table border=\"1\" class=\"dataframe\">\n",
       "  <thead>\n",
       "    <tr style=\"text-align: right;\">\n",
       "      <th></th>\n",
       "      <th>antecedents</th>\n",
       "      <th>consequents</th>\n",
       "      <th>antecedent support</th>\n",
       "      <th>consequent support</th>\n",
       "      <th>support</th>\n",
       "      <th>confidence</th>\n",
       "      <th>lift</th>\n",
       "      <th>leverage</th>\n",
       "      <th>conviction</th>\n",
       "    </tr>\n",
       "  </thead>\n",
       "  <tbody>\n",
       "    <tr>\n",
       "      <th>30</th>\n",
       "      <td>(Toast)</td>\n",
       "      <td>(Coffee)</td>\n",
       "      <td>0.033597</td>\n",
       "      <td>0.478394</td>\n",
       "      <td>0.023666</td>\n",
       "      <td>0.704403</td>\n",
       "      <td>1.472431</td>\n",
       "      <td>0.007593</td>\n",
       "      <td>1.764582</td>\n",
       "    </tr>\n",
       "    <tr>\n",
       "      <th>28</th>\n",
       "      <td>(Spanish Brunch)</td>\n",
       "      <td>(Coffee)</td>\n",
       "      <td>0.018172</td>\n",
       "      <td>0.478394</td>\n",
       "      <td>0.010882</td>\n",
       "      <td>0.598837</td>\n",
       "      <td>1.251766</td>\n",
       "      <td>0.002189</td>\n",
       "      <td>1.300235</td>\n",
       "    </tr>\n",
       "    <tr>\n",
       "      <th>18</th>\n",
       "      <td>(Medialuna)</td>\n",
       "      <td>(Coffee)</td>\n",
       "      <td>0.061807</td>\n",
       "      <td>0.478394</td>\n",
       "      <td>0.035182</td>\n",
       "      <td>0.569231</td>\n",
       "      <td>1.189878</td>\n",
       "      <td>0.005614</td>\n",
       "      <td>1.210871</td>\n",
       "    </tr>\n",
       "    <tr>\n",
       "      <th>22</th>\n",
       "      <td>(Pastry)</td>\n",
       "      <td>(Coffee)</td>\n",
       "      <td>0.086107</td>\n",
       "      <td>0.478394</td>\n",
       "      <td>0.047544</td>\n",
       "      <td>0.552147</td>\n",
       "      <td>1.154168</td>\n",
       "      <td>0.006351</td>\n",
       "      <td>1.164682</td>\n",
       "    </tr>\n",
       "    <tr>\n",
       "      <th>0</th>\n",
       "      <td>(Alfajores)</td>\n",
       "      <td>(Coffee)</td>\n",
       "      <td>0.036344</td>\n",
       "      <td>0.478394</td>\n",
       "      <td>0.019651</td>\n",
       "      <td>0.540698</td>\n",
       "      <td>1.130235</td>\n",
       "      <td>0.002264</td>\n",
       "      <td>1.135648</td>\n",
       "    </tr>\n",
       "    <tr>\n",
       "      <th>16</th>\n",
       "      <td>(Juice)</td>\n",
       "      <td>(Coffee)</td>\n",
       "      <td>0.038563</td>\n",
       "      <td>0.478394</td>\n",
       "      <td>0.020602</td>\n",
       "      <td>0.534247</td>\n",
       "      <td>1.116750</td>\n",
       "      <td>0.002154</td>\n",
       "      <td>1.119919</td>\n",
       "    </tr>\n",
       "    <tr>\n",
       "      <th>24</th>\n",
       "      <td>(Sandwich)</td>\n",
       "      <td>(Coffee)</td>\n",
       "      <td>0.071844</td>\n",
       "      <td>0.478394</td>\n",
       "      <td>0.038246</td>\n",
       "      <td>0.532353</td>\n",
       "      <td>1.112792</td>\n",
       "      <td>0.003877</td>\n",
       "      <td>1.115384</td>\n",
       "    </tr>\n",
       "    <tr>\n",
       "      <th>6</th>\n",
       "      <td>(Cake)</td>\n",
       "      <td>(Coffee)</td>\n",
       "      <td>0.103856</td>\n",
       "      <td>0.478394</td>\n",
       "      <td>0.054728</td>\n",
       "      <td>0.526958</td>\n",
       "      <td>1.101515</td>\n",
       "      <td>0.005044</td>\n",
       "      <td>1.102664</td>\n",
       "    </tr>\n",
       "    <tr>\n",
       "      <th>26</th>\n",
       "      <td>(Scone)</td>\n",
       "      <td>(Coffee)</td>\n",
       "      <td>0.034548</td>\n",
       "      <td>0.478394</td>\n",
       "      <td>0.018067</td>\n",
       "      <td>0.522936</td>\n",
       "      <td>1.093107</td>\n",
       "      <td>0.001539</td>\n",
       "      <td>1.093366</td>\n",
       "    </tr>\n",
       "    <tr>\n",
       "      <th>12</th>\n",
       "      <td>(Cookies)</td>\n",
       "      <td>(Coffee)</td>\n",
       "      <td>0.054411</td>\n",
       "      <td>0.478394</td>\n",
       "      <td>0.028209</td>\n",
       "      <td>0.518447</td>\n",
       "      <td>1.083723</td>\n",
       "      <td>0.002179</td>\n",
       "      <td>1.083174</td>\n",
       "    </tr>\n",
       "  </tbody>\n",
       "</table>\n",
       "</div>"
      ],
      "text/plain": [
       "         antecedents consequents  antecedent support  consequent support  \\\n",
       "30           (Toast)    (Coffee)            0.033597            0.478394   \n",
       "28  (Spanish Brunch)    (Coffee)            0.018172            0.478394   \n",
       "18       (Medialuna)    (Coffee)            0.061807            0.478394   \n",
       "22          (Pastry)    (Coffee)            0.086107            0.478394   \n",
       "0        (Alfajores)    (Coffee)            0.036344            0.478394   \n",
       "16           (Juice)    (Coffee)            0.038563            0.478394   \n",
       "24        (Sandwich)    (Coffee)            0.071844            0.478394   \n",
       "6             (Cake)    (Coffee)            0.103856            0.478394   \n",
       "26           (Scone)    (Coffee)            0.034548            0.478394   \n",
       "12         (Cookies)    (Coffee)            0.054411            0.478394   \n",
       "\n",
       "     support  confidence      lift  leverage  conviction  \n",
       "30  0.023666    0.704403  1.472431  0.007593    1.764582  \n",
       "28  0.010882    0.598837  1.251766  0.002189    1.300235  \n",
       "18  0.035182    0.569231  1.189878  0.005614    1.210871  \n",
       "22  0.047544    0.552147  1.154168  0.006351    1.164682  \n",
       "0   0.019651    0.540698  1.130235  0.002264    1.135648  \n",
       "16  0.020602    0.534247  1.116750  0.002154    1.119919  \n",
       "24  0.038246    0.532353  1.112792  0.003877    1.115384  \n",
       "6   0.054728    0.526958  1.101515  0.005044    1.102664  \n",
       "26  0.018067    0.522936  1.093107  0.001539    1.093366  \n",
       "12  0.028209    0.518447  1.083723  0.002179    1.083174  "
      ]
     },
     "execution_count": 11,
     "metadata": {},
     "output_type": "execute_result"
    }
   ],
   "source": [
    "# print 10 association rules in order of highest lift\n",
    "assc_rules.sort_values('confidence', ascending = False, inplace = True)\n",
    "assc_rules.head(10)"
   ]
  },
  {
   "cell_type": "markdown",
   "metadata": {},
   "source": [
    "# Interpretation of Results\n",
    "\n",
    "Because we already discussed how we can use the results of MBA to inform our business at the taco stand, we won't expound to much on the results of the bakery. However, here is how the first association rule (the one with the highest lift) would be interpreted.\n",
    "\n",
    "*Customers who bought Toast are 1.48 times more likely to buy Coffee than randomly chosen customers.*\n",
    "\n",
    "I hope you enjoyed my project. Please check out my other projects including customer segmentation and exploring ecommerce trends."
   ]
  }
 ],
 "metadata": {
  "kernelspec": {
   "display_name": "Python 3",
   "language": "python",
   "name": "python3"
  },
  "language_info": {
   "codemirror_mode": {
    "name": "ipython",
    "version": 3
   },
   "file_extension": ".py",
   "mimetype": "text/x-python",
   "name": "python",
   "nbconvert_exporter": "python",
   "pygments_lexer": "ipython3",
   "version": "3.8.5"
  }
 },
 "nbformat": 4,
 "nbformat_minor": 4
}
